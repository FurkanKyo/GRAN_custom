{
 "cells": [
  {
   "cell_type": "code",
   "execution_count": 1,
   "metadata": {},
   "outputs": [],
   "source": [
    "import pyemd\n",
    "import os\n",
    "import copy\n",
    "import numpy as np\n",
    "import networkx as nx\n",
    "import subprocess as sp\n",
    "import concurrent.futures\n",
    "from random import shuffle\n",
    "from datetime import datetime\n",
    "import numpy as np\n",
    "# import igraph\n",
    "import networkx as nx\n",
    "import concurrent.futures\n",
    "from functools import partial\n",
    "from scipy.linalg import toeplitz\n",
    "import pickle\n",
    "import itertools\n",
    "from random import shuffle\n",
    "from collections import OrderedDict\n",
    "import json\n",
    "from pprint import pprint\n",
    "import codecs\n",
    "import matplotlib.pyplot as plt"
   ]
  },
  {
   "cell_type": "code",
   "execution_count": 2,
   "metadata": {},
   "outputs": [],
   "source": [
    "def emd(x, y, distance_scaling=1.0):\n",
    "    support_size = max(len(x), len(y))\n",
    "    d_mat = toeplitz(range(support_size)).astype(np.float)\n",
    "    distance_mat = d_mat / distance_scaling\n",
    "\n",
    "    # convert histogram values x and y to float, and make them equal len\n",
    "    x = x.astype(np.float)\n",
    "    y = y.astype(np.float)\n",
    "    if len(x) < len(y):\n",
    "        x = np.hstack((x, [0.0] * (support_size - len(x))))\n",
    "    elif len(y) < len(x):\n",
    "        y = np.hstack((y, [0.0] * (support_size - len(y))))\n",
    "\n",
    "    emd = pyemd.emd(x, y, distance_mat)\n",
    "    return emd\n",
    "\n",
    "\n",
    "def l2(x, y):\n",
    "    dist = np.linalg.norm(x - y, 2)\n",
    "    return dist\n",
    "\n",
    "\n",
    "def emd(x, y, sigma=1.0, distance_scaling=1.0):\n",
    "    ''' EMD\n",
    "    Args:\n",
    "      x, y: 1D pmf of two distributions with the same support\n",
    "      sigma: standard deviation\n",
    "    '''\n",
    "    support_size = max(len(x), len(y))\n",
    "    d_mat = toeplitz(range(support_size)).astype(np.float)\n",
    "    distance_mat = d_mat / distance_scaling\n",
    "\n",
    "    # convert histogram values x and y to float, and make them equal len\n",
    "    x = x.astype(np.float)\n",
    "    y = y.astype(np.float)\n",
    "    if len(x) < len(y):\n",
    "        x = np.hstack((x, [0.0] * (support_size - len(x))))\n",
    "    elif len(y) < len(x):\n",
    "        y = np.hstack((y, [0.0] * (support_size - len(y))))\n",
    "\n",
    "    return np.abs(pyemd.emd(x, y, distance_mat))\n",
    "\n",
    "\n",
    "def gaussian_emd(x, y, sigma=1.0, distance_scaling=1.0):\n",
    "    ''' Gaussian kernel with squared distance in exponential term replaced by EMD\n",
    "    Args:\n",
    "      x, y: 1D pmf of two distributions with the same support\n",
    "      sigma: standard deviation\n",
    "    '''\n",
    "    support_size = max(len(x), len(y))\n",
    "    d_mat = toeplitz(range(support_size)).astype(np.float)\n",
    "    distance_mat = d_mat / distance_scaling\n",
    "\n",
    "    # convert histogram values x and y to float, and make them equal len\n",
    "    x = x.astype(np.float)\n",
    "    y = y.astype(np.float)\n",
    "    if len(x) < len(y):\n",
    "        x = np.hstack((x, [0.0] * (support_size - len(x))))\n",
    "    elif len(y) < len(x):\n",
    "        y = np.hstack((y, [0.0] * (support_size - len(y))))\n",
    "\n",
    "    emd = pyemd.emd(x, y, distance_mat)\n",
    "    return np.exp(-emd * emd / (2 * sigma * sigma))\n",
    "\n",
    "\n",
    "def gaussian(x, y, sigma=1.0):  \n",
    "    support_size = max(len(x), len(y))\n",
    "    # convert histogram values x and y to float, and make them equal len\n",
    "    x = x.astype(np.float)\n",
    "    y = y.astype(np.float)\n",
    "    if len(x) < len(y):\n",
    "        x = np.hstack((x, [0.0] * (support_size - len(x))))\n",
    "    elif len(y) < len(x):\n",
    "        y = np.hstack((y, [0.0] * (support_size - len(y))))\n",
    "\n",
    "    dist = np.linalg.norm(x - y, 2)\n",
    "    return np.exp(-dist * dist / (2 * sigma * sigma))\n",
    "\n",
    "\n",
    "def gaussian_tv(x, y, sigma=1.0):  \n",
    "    support_size = max(len(x), len(y))\n",
    "    # convert histogram values x and y to float, and make them equal len\n",
    "    x = x.astype(np.float)\n",
    "    y = y.astype(np.float)\n",
    "    if len(x) < len(y):\n",
    "        x = np.hstack((x, [0.0] * (support_size - len(x))))\n",
    "    elif len(y) < len(x):\n",
    "        y = np.hstack((y, [0.0] * (support_size - len(y))))\n",
    "\n",
    "    dist = np.abs(x - y).sum() / 2.0\n",
    "    return np.exp(-dist * dist / (2 * sigma * sigma))\n",
    "\n",
    "\n",
    "def kernel_parallel_unpacked(x, samples2, kernel):\n",
    "    d = 0\n",
    "    for s2 in samples2:\n",
    "        d += kernel(x, s2)\n",
    "    return d\n",
    "\n",
    "\n",
    "def kernel_parallel_worker(t):\n",
    "    return kernel_parallel_unpacked(*t)\n",
    "\n",
    "\n",
    "def disc(samples1, samples2, kernel, is_parallel=True, *args, **kwargs):\n",
    "    ''' Discrepancy between 2 samples '''\n",
    "    d = 0\n",
    "\n",
    "    if not is_parallel:\n",
    "        for s1 in samples1:\n",
    "            for s2 in samples2:\n",
    "                d += kernel(s1, s2, *args, **kwargs)\n",
    "    else:\n",
    "    # with concurrent.futures.ProcessPoolExecutor() as executor:\n",
    "    #   for dist in executor.map(kernel_parallel_worker, [\n",
    "    #       (s1, samples2, partial(kernel, *args, **kwargs)) for s1 in samples1\n",
    "    #   ]):\n",
    "    #     d += dist\n",
    "\n",
    "        with concurrent.futures.ThreadPoolExecutor() as executor:\n",
    "            for dist in executor.map(kernel_parallel_worker, [\n",
    "              (s1, samples2, partial(kernel, *args, **kwargs)) for s1 in samples1\n",
    "            ]):\n",
    "                d += dist\n",
    "\n",
    "    d /= len(samples1) * len(samples2)\n",
    "    return d\n",
    "\n",
    "\n",
    "def compute_mmd(samples1, samples2, kernel, is_hist=True, *args, **kwargs):\n",
    "    ''' MMD between two samples '''\n",
    "    # normalize histograms into pmf  \n",
    "    if is_hist:\n",
    "        samples1 = [s1 / np.sum(s1) for s1 in samples1]\n",
    "        samples2 = [s2 / np.sum(s2) for s2 in samples2]\n",
    "    # print('===============================')\n",
    "    # print('s1: ', disc(samples1, samples1, kernel, *args, **kwargs))\n",
    "    # print('--------------------------')\n",
    "    # print('s2: ', disc(samples2, samples2, kernel, *args, **kwargs))\n",
    "    # print('--------------------------')\n",
    "    # print('cross: ', disc(samples1, samples2, kernel, *args, **kwargs))\n",
    "    # print('===============================')\n",
    "    return disc(samples1, samples1, kernel, *args, **kwargs) + \\\n",
    "          disc(samples2, samples2, kernel, *args, **kwargs) - \\\n",
    "          2 * disc(samples1, samples2, kernel, *args, **kwargs)\n",
    "\n",
    "\n",
    "def compute_emd(samples1, samples2, kernel, is_hist=True, *args, **kwargs):\n",
    "    ''' EMD between average of two samples '''\n",
    "    # normalize histograms into pmf\n",
    "    if is_hist:\n",
    "        samples1 = [np.mean(samples1)]\n",
    "        samples2 = [np.mean(samples2)]\n",
    "    # print('===============================')\n",
    "    # print('s1: ', disc(samples1, samples1, kernel, *args, **kwargs))\n",
    "    # print('--------------------------')\n",
    "    # print('s2: ', disc(samples2, samples2, kernel, *args, **kwargs))\n",
    "    # print('--------------------------')\n",
    "    # print('cross: ', disc(samples1, samples2, kernel, *args, **kwargs))\n",
    "    # print('===============================')\n",
    "    return disc(samples1, samples2, kernel, *args,\n",
    "              **kwargs), [samples1[0], samples2[0]]"
   ]
  },
  {
   "cell_type": "code",
   "execution_count": 3,
   "metadata": {},
   "outputs": [],
   "source": [
    "def edge_list_reindexed(G):\n",
    "    idx = 0\n",
    "    id2idx = dict()\n",
    "    for u in G.nodes():\n",
    "        id2idx[str(u)] = idx\n",
    "        idx += 1\n",
    "\n",
    "    edges = []\n",
    "    for (u, v) in G.edges():\n",
    "        edges.append((id2idx[str(u)], id2idx[str(v)]))\n",
    "    return edges\n",
    "\n",
    "def orca(graph):\n",
    "    tmp_fname = 'orca_tmp.txt'\n",
    "    f = open(tmp_fname, 'w')\n",
    "    f.write(str(graph.number_of_nodes()) + ' ' + str(graph.number_of_edges()) + '\\n')\n",
    "    for (u, v) in edge_list_reindexed(graph):\n",
    "        f.write(str(u) + ' ' + str(v) + '\\n')\n",
    "    f.close()\n",
    "\n",
    "    output = sp.check_output(['orca', 'node', '4', 'orca_tmp.txt', 'std'])\n",
    "    output = output.decode('utf8').strip()\n",
    "\n",
    "    idx = output.find(COUNT_START_STR) + len(COUNT_START_STR)\n",
    "    output = output[idx:]\n",
    "    node_orbit_counts = np.array([\n",
    "      list(map(int,\n",
    "               node_cnts.strip().split(' ')))\n",
    "      for node_cnts in output.strip('\\n').split('\\n')\n",
    "    ])\n",
    "\n",
    "    try:\n",
    "        os.remove(tmp_fname)\n",
    "    except OSError:\n",
    "        pass\n",
    "\n",
    "    return node_orbit_counts"
   ]
  },
  {
   "cell_type": "code",
   "execution_count": 4,
   "metadata": {},
   "outputs": [],
   "source": [
    "def find_nearest_idx(array, value):\n",
    "    idx = (np.abs(array - value)).argmin()\n",
    "    return idx"
   ]
  },
  {
   "cell_type": "code",
   "execution_count": 5,
   "metadata": {},
   "outputs": [],
   "source": [
    "PRINT_TIME = False\n",
    "\n",
    "def clustering_worker(param):\n",
    "    G, bins = param\n",
    "    if nx.is_directed(G):\n",
    "        G = G.to_undirected()\n",
    "    clustering_coeffs_list = list(nx.clustering(G).values())\n",
    "    hist, _ = np.histogram(clustering_coeffs_list, bins=bins, range=(0.0, 1.0), density=False)\n",
    "    return hist\n",
    "\n",
    "\n",
    "def clustering_stats(graph_ref_list,\n",
    "                     graph_pred_list,\n",
    "                     bins=100,\n",
    "                     is_parallel=True):\n",
    "    sample_ref = []\n",
    "    sample_pred = []\n",
    "    graph_pred_list_remove_empty = [\n",
    "      G for G in graph_pred_list if not G.number_of_nodes() == 0\n",
    "    ]\n",
    "\n",
    "    prev = datetime.now()\n",
    "    if is_parallel:\n",
    "        with concurrent.futures.ThreadPoolExecutor() as executor:\n",
    "            for clustering_hist in executor.map(clustering_worker,\n",
    "                                          [(G, bins) for G in graph_ref_list]):\n",
    "                sample_ref.append(clustering_hist)\n",
    "        with concurrent.futures.ThreadPoolExecutor() as executor:\n",
    "            for clustering_hist in executor.map(\n",
    "                clustering_worker, [(G, bins) for G in graph_pred_list_remove_empty]):\n",
    "                sample_pred.append(clustering_hist)\n",
    "\n",
    "    # with concurrent.futures.ProcessPoolExecutor() as executor:\n",
    "    #   for clustering_hist in executor.map(clustering_worker,\n",
    "    #                                       [(G, bins) for G in graph_ref_list]):\n",
    "    #     sample_ref.append(clustering_hist)\n",
    "    # with concurrent.futures.ProcessPoolExecutor() as executor:\n",
    "    #   for clustering_hist in executor.map(\n",
    "    #       clustering_worker, [(G, bins) for G in graph_pred_list_remove_empty]):\n",
    "    #     sample_pred.append(clustering_hist)\n",
    "\n",
    "    # check non-zero elements in hist\n",
    "    #total = 0\n",
    "    #for i in range(len(sample_pred)):\n",
    "    #    nz = np.nonzero(sample_pred[i])[0].shape[0]\n",
    "    #    total += nz\n",
    "    #print(total)\n",
    "    else:\n",
    "        for i in range(len(graph_ref_list)):\n",
    "            clustering_coeffs_list = list(nx.clustering(graph_ref_list[i]).values())\n",
    "            hist, _ = np.histogram(clustering_coeffs_list, bins=bins, range=(0.0, 1.0), density=False)\n",
    "            sample_ref.append(hist)\n",
    "\n",
    "        for i in range(len(graph_pred_list_remove_empty)):\n",
    "            clustering_coeffs_list = list(nx.clustering(graph_pred_list_remove_empty[i]).values())\n",
    "            hist, _ = np.histogram(clustering_coeffs_list, bins=bins, range=(0.0, 1.0), density=False)\n",
    "            sample_pred.append(hist)\n",
    "\n",
    "#     mmd_dist = compute_mmd(\n",
    "#         sample_ref,\n",
    "#         sample_pred,\n",
    "#         kernel=gaussian_emd,\n",
    "#         sigma=1.0 / 10,\n",
    "#         distance_scaling=bins)\n",
    "\n",
    "    mmd_dist = compute_mmd(\n",
    "      sample_ref,\n",
    "      sample_pred,\n",
    "      kernel=gaussian_tv,\n",
    "      sigma=1.0 / 10)\n",
    "\n",
    "    elapsed = datetime.now() - prev\n",
    "    if PRINT_TIME:\n",
    "        print('Time computing clustering mmd: ', elapsed)\n",
    "    return mmd_dist\n",
    "\n",
    "\n",
    "# maps motif/orbit name string to its corresponding list of indices from orca output\n",
    "motif_to_indices = {\n",
    "    '3path': [1, 2],\n",
    "    '4cycle': [8],\n",
    "}\n",
    "COUNT_START_STR = 'orbit counts: \\n'"
   ]
  },
  {
   "cell_type": "code",
   "execution_count": 127,
   "metadata": {},
   "outputs": [],
   "source": [
    "def degree_worker(G, bins=20):\n",
    "    return np.array(nx.degree_histogram(G.to_undirected()))\n",
    "    # return np.histogram([d for i,d in G.to_undirected().degree], bins=bins, density=False)\n",
    "\n",
    "def directed_degree_worker(G, bins=20):\n",
    "    if not nx.is_directed(G):\n",
    "        G = G.to_directed()\n",
    "    in_hist, _ = np.histogram([d for i,d in G.in_degree], bins=bins, density=False)\n",
    "    out_hist, _ = np.histogram([d for i,d in G.out_degree], bins=bins, density=False)\n",
    "    return in_hist, out_hist\n",
    "\n",
    "\n",
    "def degree_stats(graph_ref_list, graph_pred_list, is_parallel=True):\n",
    "    ''' Compute the distance between the degree distributions of two unordered sets of graphs.\n",
    "    Args:\n",
    "      graph_ref_list, graph_target_list: two lists of networkx graphs to be evaluated\n",
    "    '''\n",
    "    sample_ref = []\n",
    "    sample_pred = []\n",
    "    # in case an empty graph is generated\n",
    "    graph_pred_list_remove_empty = [\n",
    "      G for G in graph_pred_list if not G.number_of_nodes() == 0\n",
    "    ]\n",
    "\n",
    "    prev = datetime.now()\n",
    "    if is_parallel:\n",
    "        with concurrent.futures.ThreadPoolExecutor() as executor:\n",
    "            for deg_hist in executor.map(degree_worker, graph_ref_list):\n",
    "                sample_ref.append(deg_hist)\n",
    "        with concurrent.futures.ThreadPoolExecutor() as executor:\n",
    "            for deg_hist in executor.map(degree_worker, graph_pred_list_remove_empty):\n",
    "                sample_pred.append(deg_hist)\n",
    "\n",
    "    # with concurrent.futures.ProcessPoolExecutor() as executor:\n",
    "    #   for deg_hist in executor.map(degree_worker, graph_ref_list):\n",
    "    #     sample_ref.append(deg_hist)\n",
    "    # with concurrent.futures.ProcessPoolExecutor() as executor:\n",
    "    #   for deg_hist in executor.map(degree_worker, graph_pred_list_remove_empty):\n",
    "    #     sample_pred.append(deg_hist)\n",
    "    else:\n",
    "        for i in range(len(graph_ref_list)):\n",
    "            degree_temp = np.array(nx.degree_histogram(graph_ref_list[i]))\n",
    "            sample_ref.append(degree_temp)\n",
    "        for i in range(len(graph_pred_list_remove_empty)):\n",
    "            degree_temp = np.array(nx.degree_histogram(graph_pred_list_remove_empty[i]))\n",
    "            sample_pred.append(degree_temp)\n",
    "        # print(len(sample_ref), len(sample_pred))\n",
    "\n",
    "    # mmd_dist = compute_mmd(sample_ref, sample_pred, kernel=gaussian_emd)\n",
    "    # mmd_dist = compute_mmd(sample_ref, sample_pred, kernel=emd)\n",
    "    mmd_dist = compute_mmd(sample_ref, sample_pred, kernel=gaussian_tv)\n",
    "    # mmd_dist = compute_mmd(sample_ref, sample_pred, kernel=gaussian)\n",
    "\n",
    "    elapsed = datetime.now() - prev\n",
    "    if PRINT_TIME:\n",
    "        print('Time computing degree mmd: ', elapsed)\n",
    "    return mmd_dist\n",
    "\n",
    "def directed_degree_stats(graph_ref_list, graph_pred_list, bins=10, is_parallel=True):\n",
    "    ''' Compute the distance between the degree distributions of two unordered sets of graphs.\n",
    "    Args:\n",
    "      graph_ref_list, graph_target_list: two lists of networkx graphs to be evaluated\n",
    "    '''\n",
    "    sample_ref_in = []\n",
    "    sample_pred_in = []\n",
    "    sample_ref_out = []\n",
    "    sample_pred_out = []\n",
    "    # in case an empty graph is generated\n",
    "    graph_pred_list_remove_empty = [\n",
    "      G for G in graph_pred_list if not G.number_of_nodes() == 0\n",
    "    ]\n",
    "\n",
    "    prev = datetime.now()\n",
    "    if is_parallel:\n",
    "        with concurrent.futures.ThreadPoolExecutor() as executor:\n",
    "            for in_deg_hist, out_deg_hist in executor.map(directed_degree_worker, graph_ref_list):\n",
    "                sample_ref_in.append(in_deg_hist)\n",
    "                sample_ref_out.append(out_deg_hist)\n",
    "        with concurrent.futures.ThreadPoolExecutor() as executor:\n",
    "            for in_deg_hist, out_deg_hist in executor.map(directed_degree_worker, graph_pred_list_remove_empty):\n",
    "                sample_pred_in.append(in_deg_hist)\n",
    "                sample_pred_out.append(out_deg_hist)\n",
    "\n",
    "    # with concurrent.futures.ProcessPoolExecutor() as executor:\n",
    "    #   for deg_hist in executor.map(degree_worker, graph_ref_list):\n",
    "    #     sample_ref.append(deg_hist)\n",
    "    # with concurrent.futures.ProcessPoolExecutor() as executor:\n",
    "    #   for deg_hist in executor.map(degree_worker, graph_pred_list_remove_empty):\n",
    "    #     sample_pred.append(deg_hist)\n",
    "    else:\n",
    "        print(\"pick parallel execution\")\n",
    "#         for i in range(len(graph_ref_list)):\n",
    "#             degree_temp = np.array(nx.degree_histogram(graph_ref_list[i]))\n",
    "#             sample_ref.append(degree_temp)\n",
    "#         for i in range(len(graph_pred_list_remove_empty)):\n",
    "#             degree_temp = np.array(nx.degree_histogram(graph_pred_list_remove_empty[i]))\n",
    "#             sample_pred.append(degree_temp)\n",
    "        # print(len(sample_ref), len(sample_pred))\n",
    "\n",
    "    # mmd_dist = compute_mmd(sample_ref, sample_pred, kernel=gaussian_emd)\n",
    "    # mmd_dist = compute_mmd(sample_ref, sample_pred, kernel=emd)\n",
    "    mmd_dist_in = compute_mmd(sample_ref_in, sample_pred_in, kernel=gaussian_tv)\n",
    "    mmd_dist_out = compute_mmd(sample_ref_out, sample_pred_out, kernel=gaussian_tv)\n",
    "\n",
    "    # mmd_dist = compute_mmd(sample_ref, sample_pred, kernel=gaussian)\n",
    "\n",
    "    return mmd_dist_in, mmd_dist_out"
   ]
  },
  {
   "cell_type": "code",
   "execution_count": 7,
   "metadata": {},
   "outputs": [],
   "source": [
    "def edge_flow_dist_stats(graph_ref_list, graph_pred_list, bins=100):\n",
    "    ''' Compute the distance between the flow distributions of two unordered sets of graphs.\n",
    "    Args:\n",
    "      graph_ref_list, graph_target_list: two lists of networkx graphs to be evaluated\n",
    "    '''\n",
    "    sample_ref = []\n",
    "    sample_pred = []\n",
    "    # in case an empty graph is generated\n",
    "    graph_pred_list_remove_empty = [\n",
    "      G for G in graph_pred_list if not G.number_of_nodes() == 0\n",
    "    ]\n",
    "\n",
    "    \n",
    "    for i in range(len(graph_ref_list)):\n",
    "        flow_dist_list = list(nx.get_edge_attributes(graph_ref_list[i],'weight').values())\n",
    "        hist, _ = np.histogram(flow_dist_list, bins=bins, density=False)\n",
    "        sample_ref.append(hist)\n",
    "\n",
    "    for i in range(len(graph_pred_list_remove_empty)):\n",
    "        flow_dist_list = list(nx.get_edge_attributes(graph_pred_list_remove_empty[i],'weight').values())\n",
    "        hist, _ = np.histogram(flow_dist_list, bins=bins, density=False)\n",
    "        sample_pred.append(hist)\n",
    "    # print(len(sample_ref), len(sample_pred))\n",
    "\n",
    "    # mmd_dist = compute_mmd(sample_ref, sample_pred, kernel=gaussian_emd)\n",
    "    # mmd_dist = compute_mmd(sample_ref, sample_pred, kernel=emd)\n",
    "    mmd_dist = compute_mmd(sample_ref, sample_pred, kernel=gaussian_tv)\n",
    "    # mmd_dist = compute_mmd(sample_ref, sample_pred, kernel=gaussian)\n",
    "\n",
    "    return mmd_dist\n",
    "\n",
    "\n",
    "def node_flow_dist_stats(graph_ref_list, graph_pred_list, bins=100):\n",
    "    ''' Compute the distance between the flow distributions of two unordered sets of graphs.\n",
    "    Args:\n",
    "      graph_ref_list, graph_target_list: two lists of networkx graphs to be evaluated\n",
    "    '''\n",
    "    sample_ref = []\n",
    "    sample_pred = []\n",
    "    # in case an empty graph is generated\n",
    "    graph_pred_list_remove_empty = [\n",
    "      G for G in graph_pred_list if not G.number_of_nodes() == 0\n",
    "    ]\n",
    "\n",
    "    \n",
    "    for i in range(len(graph_ref_list)):\n",
    "        X = nx.to_numpy_matrix(graph_ref_list[i])\n",
    "        flow_dist = (np.sum(X, axis=-1) - np.sum(X.T, axis=-1)) / (np.maximum(np.sum(X, axis=-1),np.sum(X.T, axis=-1)) + 0.0001)\n",
    "        hist, _ = np.histogram(flow_dist, bins=bins, density=False)\n",
    "        sample_ref.append(hist)\n",
    "\n",
    "    for i in range(len(graph_pred_list_remove_empty)):\n",
    "        X = nx.to_numpy_matrix(graph_pred_list_remove_empty[i])\n",
    "        flow_dist = (np.sum(X, axis=-1) - np.sum(X.T, axis=-1)) / (np.maximum(np.sum(X, axis=-1),np.sum(X.T, axis=-1)) + 0.0001)\n",
    "        hist, _ = np.histogram(flow_dist, bins=bins, density=False)\n",
    "        sample_pred.append(hist)\n",
    "    # print(len(sample_ref), len(sample_pred))\n",
    "\n",
    "    # mmd_dist = compute_mmd(sample_ref, sample_pred, kernel=gaussian_emd)\n",
    "    # mmd_dist = compute_mmd(sample_ref, sample_pred, kernel=emd)\n",
    "    mmd_dist = compute_mmd(sample_ref, sample_pred, kernel=gaussian_tv)\n",
    "    # mmd_dist = compute_mmd(sample_ref, sample_pred, kernel=gaussian)\n",
    "\n",
    "    return mmd_dist\n",
    "\n",
    "\n",
    "def compute_entropy(sample_ref, sample_pred):\n",
    "    return scipy.stats.entropy(sample_ref, sample_pred)"
   ]
  },
  {
   "cell_type": "code",
   "execution_count": 8,
   "metadata": {},
   "outputs": [],
   "source": [
    "def triangle_counts(G_list):\n",
    "    tr_counts = [len([c for c in nx.cycle_basis(G.to_undirected()) if len(c)==3]) for G in G_list]\n",
    "    return np.average(tr_counts)\n",
    "\n",
    "\n",
    "def square_counts(G_list):\n",
    "    sq_counts = [len([c for c in nx.cycle_basis(G.to_undirected()) if len(c)==4]) for G in G_list]\n",
    "    return np.average(sq_counts)\n",
    "\n",
    "\n",
    "def statistics_LCC(G_list):\n",
    "    \"\"\"\n",
    "    Compute the size of the largest connected component (LCC)\n",
    "    Parameters\n",
    "    ----------\n",
    "    A_in: sparse matrix or np.array\n",
    "          The input adjacency matrix.\n",
    "    Returns\n",
    "    -------\n",
    "    Size of LCC\n",
    "    \"\"\"\n",
    "    values = []\n",
    "    for G in G_list:\n",
    "        A_in = nx.to_numpy_matrix(G.to_undirected())\n",
    "        unique, counts = np.unique(connected_components(A_in)[1], return_counts=True)\n",
    "        LCC = np.where(connected_components(A_in)[1] == np.argmax(counts))[0]\n",
    "        values.append(LCC)\n",
    "        \n",
    "    return np.average(values)\n",
    "\n",
    "\n",
    "def statistics_triangle_count_both(G_list):\n",
    "    \"\"\"\n",
    "    Compute the triangle count of the input graph\n",
    "    Parameters\n",
    "    ----------\n",
    "    A_in: sparse matrix or np.array\n",
    "          The input adjacency matrix.\n",
    "    Returns\n",
    "    -------\n",
    "    Square count\n",
    "    \"\"\"\n",
    "    \n",
    "#     values = []\n",
    "#     for G in G_list:\n",
    "#         A_igraph = igraph.Graph.Adjacency((nx.to_numpy_matrix(G) > 0).tolist()).as_undirected()\n",
    "#         values.append(int(np.sum(squares(A_igraph) / 4)))\n",
    "    \n",
    "    values_directed = []\n",
    "    values_undireced = []\n",
    "    for G in G_list:\n",
    "        _s_d = countTriangle(G, True)\n",
    "        _s_u = countTriangle(G.to_undirected(), False)\n",
    "        values_directed.append(_s_d)\n",
    "        values_undireced.append(_s_u)\n",
    "    \n",
    "    return np.average(values_directed), np.average(values_undireced)\n",
    "\n",
    "\n",
    "\n",
    "def statistics_square_count_both(G_list):\n",
    "    \"\"\"\n",
    "    Compute the square count of the input graph\n",
    "    Parameters\n",
    "    ----------\n",
    "    A_in: sparse matrix or np.array\n",
    "          The input adjacency matrix.\n",
    "    Returns\n",
    "    -------\n",
    "    Square count\n",
    "    \"\"\"\n",
    "    \n",
    "#     values = []\n",
    "#     for G in G_list:\n",
    "#         A_igraph = igraph.Graph.Adjacency((nx.to_numpy_matrix(G) > 0).tolist()).as_undirected()\n",
    "#         values.append(int(np.sum(squares(A_igraph) / 4)))\n",
    "    \n",
    "    values_directed = []\n",
    "    values_undireced = []\n",
    "    for G in G_list:\n",
    "        _s_d = countSquare(G, True)\n",
    "        _s_u = countSquare(G.to_undirected(), False)\n",
    "        values_directed.append(_s_d)\n",
    "        values_undireced.append(_s_u)\n",
    "    \n",
    "    return np.average(values_directed), np.average(values_undireced)\n",
    "\n",
    "\n",
    "def findsubsets(s, n): \n",
    "    return list(itertools.combinations(s, n)) \n",
    "\n",
    "\n",
    "def statistics_degree_assortativity(G_list):\n",
    "    values = []\n",
    "    for G in G_list:\n",
    "         values.append(nx.degree_assortativity_coefficient(G))\n",
    "    return np.average(values)\n",
    "\n",
    "def fetch_default_stats_dict():\n",
    "    d = {}\n",
    "    d['clustering_stats'] = ''\n",
    "    d['degree_stats'] = ''\n",
    "    d['in_degree_stats'] = ''\n",
    "    d['out_degree_stats'] = ''\n",
    "    d['degree_assort_stats'] = ''\n",
    "    d['edge_flow_stats'] = ''\n",
    "    d['node_flow_stats'] = ''\n",
    "    d['u_triangle_count'] = ''\n",
    "    d['d_triangle_count'] = ''\n",
    "    d['u_square_count'] = ''\n",
    "    d['d_square_count'] = ''\n",
    "    return d"
   ]
  },
  {
   "cell_type": "code",
   "execution_count": 9,
   "metadata": {},
   "outputs": [],
   "source": [
    "def check_unique(arr):\n",
    "    temp_arr = []\n",
    "    for e in arr:\n",
    "        if e not in temp_arr:\n",
    "            temp_arr.append(e)\n",
    "            \n",
    "    return len(temp_arr) == len(arr)"
   ]
  },
  {
   "cell_type": "code",
   "execution_count": 10,
   "metadata": {},
   "outputs": [],
   "source": [
    "def countTriangle(g, isDirected): \n",
    "    nodes = len(g) \n",
    "    count_Triangle = 0 #Initialize result \n",
    "    # Consider every possible triplet of edges in graph \n",
    "    for i in range(nodes): \n",
    "        for j in range(nodes): \n",
    "            for k in range(nodes): \n",
    "                # check the triplet if it satisfies the condition \n",
    "                if( i!=j and i !=k and j !=k and \n",
    "                        g.has_edge(i,j) and g.has_edge(j,k) and g.has_edge(k,i)): \n",
    "                    count_Triangle += 1\n",
    "    # if graph is directed , division is done by 3 \n",
    "    # else division by 6 is done \n",
    "    return count_Triangle/3 if isDirected else count_Triangle/6\n",
    "\n",
    "def countSquare(g, isDirected): \n",
    "    nodes = len(g) \n",
    "    count_square = 0 #Initialize result \n",
    "    # Consider every possible triplet of edges in graph \n",
    "    for i in range(nodes): \n",
    "        for j in range(nodes): \n",
    "            for k in range(nodes): \n",
    "                for l in range(nodes):\n",
    "                    # check the triplet if it satisfies the condition \n",
    "                    if( check_unique([i,j,k,l]) and g.has_edge(i,j) and g.has_edge(j,k) and \n",
    "                       g.has_edge(k,l) and g.has_edge(l,i)): \n",
    "                        count_square += 1\n",
    "    # if graph is directed , division is done by 4 \n",
    "    # else division by 6 is done \n",
    "    return count_square/4 if isDirected else count_square/8"
   ]
  },
  {
   "cell_type": "code",
   "execution_count": 11,
   "metadata": {},
   "outputs": [],
   "source": [
    "# IO functions\n",
    "def write_dictionary_to_json(data, output_file):\n",
    "    with codecs.open(output_file, 'w', 'utf8') as out_writer:\n",
    "        out_writer.write(json.dumps(data, indent=4, separators=(',', ':'), ensure_ascii=False))"
   ]
  },
  {
   "cell_type": "code",
   "execution_count": 189,
   "metadata": {},
   "outputs": [
    {
     "data": {
      "text/plain": [
       "5000"
      ]
     },
     "execution_count": 189,
     "metadata": {},
     "output_type": "execute_result"
    }
   ],
   "source": [
    "filename_gt = '../data/WATER/grid_1s_1d_5000.pickle'\n",
    "# filename_gt = '../data/WATER/barbell_1s_1d_5000_sparse_pure.pickle'\n",
    "# filename_gt = '../data/TAXI/nyc_taxi_all_18.pickle'\n",
    "file_gt = open(filename_gt, 'rb')\n",
    "d_gt = pickle.load(file_gt)\n",
    "graphs_gt = [nx.from_numpy_matrix(d_i, create_using=nx.DiGraph()) for d_i in d_gt]\n",
    "len(graphs_gt)"
   ]
  },
  {
   "cell_type": "code",
   "execution_count": 190,
   "metadata": {},
   "outputs": [
    {
     "data": {
      "text/plain": [
       "39.9604"
      ]
     },
     "execution_count": 190,
     "metadata": {},
     "output_type": "execute_result"
    }
   ],
   "source": [
    "np.average([g.to_undirected().number_of_edges() for g in graphs_gt])"
   ]
  },
  {
   "cell_type": "code",
   "execution_count": 191,
   "metadata": {},
   "outputs": [
    {
     "data": {
      "text/plain": [
       "25.0"
      ]
     },
     "execution_count": 191,
     "metadata": {},
     "output_type": "execute_result"
    }
   ],
   "source": [
    "np.average([g.to_undirected().number_of_nodes() for g in graphs_gt])"
   ]
  },
  {
   "cell_type": "code",
   "execution_count": 366,
   "metadata": {},
   "outputs": [],
   "source": [
    "# filename_b = '../../GraphRNN/output/e-r_nyc_taxi_18.pickle'\n",
    "# # filename_gt = '../data/WATER/barbell_1s_1d_5000.pickle'\n",
    "# file_b = open(filename_b, 'rb')\n",
    "# d_b = pickle.load(file_b)\n",
    "# graphs_gen = [nx.from_numpy_matrix(d_i, create_using=nx.DiGraph()) for d_i in d_b]\n",
    "# len(graphs_gen)"
   ]
  },
  {
   "cell_type": "code",
   "execution_count": 155,
   "metadata": {},
   "outputs": [
    {
     "name": "stdout",
     "output_type": "stream",
     "text": [
      "200\n"
     ]
    },
    {
     "data": {
      "text/plain": [
       "(200, 200)"
      ]
     },
     "execution_count": 155,
     "metadata": {},
     "output_type": "execute_result"
    }
   ],
   "source": [
    "# FOR NetGAN\n",
    "# filename_b = '../../netgan/output/netgan_nyc_taxi_18.pickle'\n",
    "# # '../../netgan/output/netgan_grid_25N.pickle' \n",
    "# # '../../GraphRNN/output/e-r_barbell_20N.pickle'\n",
    "# # filename_gt = '../data/WATER/barbell_1s_1d_5000.pickle'\n",
    "# file_b = open(filename_b, 'rb')\n",
    "# d_b = pickle.load(file_b)\n",
    "# print(len(d_b))\n",
    "# graphs_gen = [nx.from_numpy_matrix(d_i) for d_i in d_b]\n",
    "# d_b = [d_i for d_i in d_b]\n",
    "# len(graphs_gen), len(d_b)"
   ]
  },
  {
   "cell_type": "code",
   "execution_count": 231,
   "metadata": {},
   "outputs": [
    {
     "name": "stdout",
     "output_type": "stream",
     "text": [
      "100\n"
     ]
    },
    {
     "data": {
      "text/plain": [
       "(85, 85)"
      ]
     },
     "execution_count": 231,
     "metadata": {},
     "output_type": "execute_result"
    }
   ],
   "source": [
    "# FOR E-R and B-A (since they are already stored as graphs)\n",
    "filename_b = '../../GRAN/output/grid_25N/GRANMixtureBernoulli_grid_2020-Mar-30-19-47-06_99778/gran_grid_25N_500.pickle'\n",
    "# \n",
    "#  '../../GraphRNN/output/b-a_nyc_taxi_18.pickle'\n",
    "file_b = open(filename_b, 'rb')\n",
    "d_b = pickle.load(file_b)\n",
    "print(len(d_b))\n",
    "graphs_gen = [d_i for d_i in d_b if not d_i.number_of_nodes() == 0]\n",
    "d_b = [nx.to_numpy_matrix(d_i) for d_i in d_b if not d_i.number_of_nodes() == 0]\n",
    "len(graphs_gen), len(d_b)"
   ]
  },
  {
   "cell_type": "code",
   "execution_count": 232,
   "metadata": {},
   "outputs": [],
   "source": [
    "idx = 10"
   ]
  },
  {
   "cell_type": "code",
   "execution_count": 233,
   "metadata": {},
   "outputs": [
    {
     "data": {
      "image/png": "[encoded data removed]",
      "text/plain": [
       "<Figure size 432x288 with 1 Axes>"
      ]
     },
     "metadata": {},
     "output_type": "display_data"
    }
   ],
   "source": [
    "nx.draw(graphs_gt[idx].to_undirected(), with_labels=True)\n",
    "plt.show()"
   ]
  },
  {
   "cell_type": "code",
   "execution_count": 234,
   "metadata": {},
   "outputs": [
    {
     "data": {
      "image/png": "[encoded data removed]",
      "text/plain": [
       "<Figure size 432x288 with 1 Axes>"
      ]
     },
     "metadata": {},
     "output_type": "display_data"
    }
   ],
   "source": [
    "nx.draw(graphs_gen[idx].to_undirected(), with_labels=True)\n",
    "plt.show()"
   ]
  },
  {
   "cell_type": "code",
   "execution_count": 227,
   "metadata": {},
   "outputs": [
    {
     "data": {
      "image/png": "[encoded data removed]",
      "text/plain": [
       "<Figure size 432x288 with 1 Axes>"
      ]
     },
     "metadata": {},
     "output_type": "display_data"
    }
   ],
   "source": [
    "_i_gt = d_gt[idx] + d_gt[idx].T \n",
    "_i_gt[_i_gt > 1] = 1\n",
    "plt.spy(_i_gt, markersize=.5)\n",
    "plt.show()"
   ]
  },
  {
   "cell_type": "code",
   "execution_count": 228,
   "metadata": {},
   "outputs": [
    {
     "data": {
      "image/png": "[encoded data removed]",
      "text/plain": [
       "<Figure size 432x288 with 1 Axes>"
      ]
     },
     "metadata": {},
     "output_type": "display_data"
    }
   ],
   "source": [
    "plt.spy(d_b[idx], markersize=.5)\n",
    "plt.show()"
   ]
  },
  {
   "cell_type": "code",
   "execution_count": 278,
   "metadata": {},
   "outputs": [],
   "source": [
    "# [d for i,d in graphs_gt[1].in_degree]"
   ]
  },
  {
   "cell_type": "code",
   "execution_count": 70,
   "metadata": {},
   "outputs": [
    {
     "data": {
      "text/plain": [
       "8.0"
      ]
     },
     "execution_count": 70,
     "metadata": {},
     "output_type": "execute_result"
    }
   ],
   "source": [
    "countSquare(graphs_gen[idx].to_undirected(), False)"
   ]
  },
  {
   "cell_type": "code",
   "execution_count": 72,
   "metadata": {},
   "outputs": [
    {
     "data": {
      "text/plain": [
       "16.0"
      ]
     },
     "execution_count": 72,
     "metadata": {},
     "output_type": "execute_result"
    }
   ],
   "source": [
    "countSquare(graphs_gt[idx].to_undirected(), False)"
   ]
  },
  {
   "cell_type": "code",
   "execution_count": 71,
   "metadata": {},
   "outputs": [
    {
     "data": {
      "text/plain": [
       "0.0"
      ]
     },
     "execution_count": 71,
     "metadata": {},
     "output_type": "execute_result"
    }
   ],
   "source": [
    "countSquare(graphs_gt[idx], True)"
   ]
  },
  {
   "cell_type": "code",
   "execution_count": 68,
   "metadata": {},
   "outputs": [
    {
     "data": {
      "text/plain": [
       "0.0"
      ]
     },
     "execution_count": 68,
     "metadata": {},
     "output_type": "execute_result"
    }
   ],
   "source": [
    "countTriangle(graphs_gen[idx].to_undirected(), False)"
   ]
  },
  {
   "cell_type": "code",
   "execution_count": 146,
   "metadata": {},
   "outputs": [
    {
     "name": "stdout",
     "output_type": "stream",
     "text": [
      "Degree assortativity stats g-t:  -0.17466375907587003\n"
     ]
    }
   ],
   "source": [
    "print(\"Degree assortativity stats g-t: \", statistics_degree_assortativity([g for g in graphs_gt[:100]]))"
   ]
  },
  {
   "cell_type": "code",
   "execution_count": null,
   "metadata": {},
   "outputs": [],
   "source": [
    "statistics_square_count_both(graphs_gt[:100])"
   ]
  },
  {
   "cell_type": "code",
   "execution_count": null,
   "metadata": {},
   "outputs": [],
   "source": [
    "statistics_triangle_count_both(graphs_gt[:100])"
   ]
  },
  {
   "cell_type": "code",
   "execution_count": null,
   "metadata": {},
   "outputs": [],
   "source": [
    "statistics_degree_assortativity(graphs_gt[:100])"
   ]
  },
  {
   "cell_type": "code",
   "execution_count": 235,
   "metadata": {},
   "outputs": [
    {
     "name": "stdout",
     "output_type": "stream",
     "text": [
      "Degree stats:  0.09287055667962685\n"
     ]
    }
   ],
   "source": [
    "print(\"Degree stats: \", degree_stats(graphs_gen[:100], graphs_gt[:100]))"
   ]
  },
  {
   "cell_type": "code",
   "execution_count": 236,
   "metadata": {},
   "outputs": [
    {
     "name": "stdout",
     "output_type": "stream",
     "text": [
      "Clustering stats:  0.060099072906640405\n"
     ]
    }
   ],
   "source": [
    "print(\"Clustering stats: \", clustering_stats(graphs_gen[:100], graphs_gt[:100]))"
   ]
  },
  {
   "cell_type": "code",
   "execution_count": null,
   "metadata": {},
   "outputs": [],
   "source": []
  },
  {
   "cell_type": "code",
   "execution_count": 139,
   "metadata": {},
   "outputs": [
    {
     "name": "stdout",
     "output_type": "stream",
     "text": [
      "Square counts g-t (d,u):  (0.0, 15.98)\n"
     ]
    }
   ],
   "source": [
    "# This was for 25N grid with balanced node flows!!\n",
    "print(\"Square counts g-t (d,u): \", statistics_square_count_both(graphs_gt[:100]))"
   ]
  },
  {
   "cell_type": "code",
   "execution_count": 151,
   "metadata": {
    "scrolled": true
   },
   "outputs": [
    {
     "name": "stdout",
     "output_type": "stream",
     "text": [
      "../../netgan/output/netgan_nyc_taxi_18.pickle\n",
      "Degree assortativity stats g-t:  -0.07174167066496243\n",
      "Degree assortativity stats baseline:  -0.059044999869237745\n",
      "Clustering stats:  0.020190218510336273\n",
      "Degree stats:  0.06023658131283072\n",
      "Directed degree stats: in, out 0.007902184009313196 0.07718482954934536\n",
      "Degree assortativity stats:  -0.059044999869237745\n",
      "Edge flow distribution stats:  0.5484799247359919\n",
      "Node flow distribution stats:  0.3754663019673006\n",
      "Average degree g-t:  8.85875\n",
      "Average degree baseline:  6.75\n"
     ]
    }
   ],
   "source": [
    "print(filename_b)\n",
    "shuffle(graphs_gt)\n",
    "shuffle(graphs_gen)\n",
    "\n",
    "# print(\"Triangle counts g-t (d,u): \", statistics_triangle_count_both(graphs_gt[:100]))\n",
    "# print(\"Triangle counts baseline (d,u): \", statistics_triangle_count_both(graphs_gen[:100]))\n",
    "# print(\"Square counts g-t (d,u): \", statistics_square_count_both(graphs_gt[:100]))\n",
    "# print(\"Square counts baseline (d,u): \", statistics_square_count_both(graphs_gen[:100]))\n",
    "print(\"Degree assortativity stats g-t: \", statistics_degree_assortativity(graphs_gt[:100]))\n",
    "print(\"Degree assortativity stats baseline: \", statistics_degree_assortativity(graphs_gen[:100]))\n",
    "\n",
    "graph_stats = fetch_default_stats_dict() # OrderedDict()\n",
    "graph_stats['clustering_stats'] = clustering_stats(graphs_gen[:100], graphs_gt[:100])\n",
    "print(\"Clustering stats: \", graph_stats['clustering_stats'])\n",
    "graph_stats['degree_stats'] = degree_stats(graphs_gen[:100], graphs_gt[:100])\n",
    "print(\"Degree stats: \", graph_stats['degree_stats'])\n",
    "graph_stats['in_degree_stats'], graph_stats['out_degree_stats']  = directed_degree_stats(graphs_gen[:100], graphs_gt[:100])\n",
    "print(\"Directed degree stats: in, out\", graph_stats['in_degree_stats'], graph_stats['out_degree_stats'])\n",
    "graph_stats['degree_assort_stats'] = statistics_degree_assortativity(graphs_gen[:100])\n",
    "print(\"Degree assortativity stats: \", graph_stats['degree_assort_stats'])\n",
    "graph_stats['edge_flow_stats'] = edge_flow_dist_stats(graphs_gt[:100], graphs_gen[:100], bins='auto')\n",
    "print(\"Edge flow distribution stats: \", graph_stats['edge_flow_stats'])\n",
    "graph_stats['node_flow_stats'] = node_flow_dist_stats(graphs_gt[:100], graphs_gen[:100], bins='auto')\n",
    "print(\"Node flow distribution stats: \", graph_stats['node_flow_stats'])\n",
    "# graph_stats['d_triangle_count'], graph_stats['u_triangle_count'] = statistics_triangle_count_both(graphs_gen[:100])\n",
    "# print(\"Triangle counts undirected: , \", graph_stats['u_triangle_count'])\n",
    "# print(\"Triangle counts directed: \", graph_stats['d_triangle_count'])\n",
    "# graph_stats['d_square_count'], graph_stats['u_square_count'] = statistics_square_count_both(graphs_gen[:100])\n",
    "# print(\"Square counts undirected: \", graph_stats['u_square_count'])\n",
    "# print(\"Square counts directed: \", graph_stats['d_square_count'])\n",
    "print(\"Average degree g-t: \", np.average([np.count_nonzero(d+d.T, axis=0) for d in d_gt[:100]]))\n",
    "print(\"Average degree baseline: \", np.average([np.count_nonzero(d, axis=0) for d in d_b[:100]]))"
   ]
  },
  {
   "cell_type": "code",
   "execution_count": 309,
   "metadata": {},
   "outputs": [
    {
     "name": "stdout",
     "output_type": "stream",
     "text": [
      "Degree assortativity stats g-t:  -0.17719935274448478\n"
     ]
    }
   ],
   "source": [
    "print(\"Degree assortativity stats g-t: \", statistics_degree_assortativity(graphs_gt[200:220]))"
   ]
  },
  {
   "cell_type": "code",
   "execution_count": 139,
   "metadata": {},
   "outputs": [
    {
     "data": {
      "text/plain": [
       "0.24708106626562198"
      ]
     },
     "execution_count": 139,
     "metadata": {},
     "output_type": "execute_result"
    }
   ],
   "source": [
    "degree_stats(graphs_gen[:10], graphs_gt[10:20])"
   ]
  },
  {
   "cell_type": "markdown",
   "metadata": {},
   "source": [
    "#### Collect results down here (E-R & B-A)"
   ]
  },
  {
   "cell_type": "markdown",
   "metadata": {},
   "source": [
    "1. E-R-Taxi-8:\n",
    "Triangle counts g-t (d,u):  (10.06, 263.6)\n",
    "Triangle counts baseline (d,u):  (226.86, 113.43)\n",
    "Square counts g-t (d,u):  (16.25, 1886.9)\n",
    "Square counts baseline (d,u):  (1499.1, 749.55)\n",
    "Degree assortativity stats g-t:  -0.17261889496293448\n",
    "Degree assortativity stats baseline:  -0.07299747870910506\n",
    "Clustering stats:  0.019725735416844112\n",
    "Degree stats:  0.08855503259853315\n",
    "Directed degree stats: in, out 0.21610588070091508 0.023738475903718248\n",
    "Edge flow distribution stats:  nan\n",
    "Node flow distribution stats:  0.509113365505419\n",
    "Average degree g-t:  7.048125\n",
    "Average degree baseline:  6.93\n",
    "\n",
    "2. B-A-Taxi-8:\n",
    "Triangle counts g-t (d,u):  (10.66, 284.94)\n",
    "Triangle counts baseline (d,u):  (240.54, 120.27)\n",
    "Square counts g-t (d,u):  (17.15, 2103.62)\n",
    "Square counts baseline (d,u):  (1542.12, 771.06)\n",
    "Degree assortativity stats g-t:  -0.17261889496293448\n",
    "Degree assortativity stats baseline:  -0.19545334356159927\n",
    "Clustering stats:  0.020249908918675858\n",
    "Degree stats:  0.06807261462241865\n",
    "Directed degree stats: in, out 0.07123970066646002 0.029010772035519272\n",
    "Degree assortativity stats:  -0.19545334356159927\n",
    "Edge flow distribution stats:  nan\n",
    "Node flow distribution stats:  0.5125071707701023\n",
    "Average degree g-t:  7.048125\n",
    "Average degree baseline:  6.5225\n",
    "\n",
    "\n",
    "3. E-R-Taxi-13:\n",
    "Triangle counts g-t (d,u):  (38.26, 180.95)\n",
    "Triangle counts baseline (d,u):  (114.44, 57.22)\n",
    "Square counts g-t (d,u):  (108.43, 1045.07)\n",
    "Square counts baseline (d,u):  (605.62, 302.81)\n",
    "Degree assortativity stats g-t:  -0.0436539882614747\n",
    "Degree assortativity stats baseline:  -0.08039475269066687\n",
    "Clustering stats:  0.020673574875343485\n",
    "Degree stats:  0.11500212547590238\n",
    "Directed degree stats: in, out 0.0803469655202329 0.04539784773151956\n",
    "Degree assortativity stats:  -0.08039475269066687\n",
    "Edge flow distribution stats:  nan\n",
    "Node flow distribution stats:  0.5226786049429493\n",
    "Average degree g-t:  6.06625\n",
    "Average degree baseline:  6.12125\n",
    "\n",
    "4. B-A-Taxi-13:\n",
    "Triangle counts g-t (d,u):  (36.22, 173.3)\n",
    "Triangle counts baseline (d,u):  (145.66, 72.83)\n",
    "Square counts g-t (d,u):  (100.31, 985.0)\n",
    "Square counts baseline (d,u):  (754.86, 377.43)\n",
    "Degree assortativity stats g-t:  -0.0456767388994398\n",
    "Degree assortativity stats baseline:  -0.21689627243675047\n",
    "Clustering stats:  0.020640978403315142\n",
    "Degree stats:  0.11630834137011026\n",
    "Directed degree stats: in, out 0.026417025842959685 0.05058843238514554\n",
    "Degree assortativity stats:  -0.21689627243675047\n",
    "Edge flow distribution stats:  nan\n",
    "Node flow distribution stats:  0.5101451732795237\n",
    "Average degree g-t:  6.06625\n",
    "Average degree baseline:  5.291875\n",
    "\n",
    "5. E-R-Taxi-18:\n",
    "Triangle counts g-t (d,u):  (36.67, 358.71)\n",
    "Triangle counts baseline (d,u):  (346.28, 173.14)\n",
    "Square counts g-t (d,u):  (101.96, 2707.59)\n",
    "Square counts baseline (d,u):  (2554.04, 1277.02)\n",
    "Degree assortativity stats g-t:  -0.06250343360997467\n",
    "Degree assortativity stats baseline:  -0.06364278705422502\n",
    "Clustering stats:  0.020110194914439827\n",
    "Degree stats:  0.09210099744796896\n",
    "Directed degree stats: in, out 0.03306128005579012 0.12335671354445976\n",
    "Degree assortativity stats:  -0.06364278705422502\n",
    "Edge flow distribution stats:  nan\n",
    "Node flow distribution stats:  0.37764714556831214\n",
    "Average degree g-t:  8.85875\n",
    "Average degree baseline:  8.893125\n",
    "\n",
    "6. B-A-Taxi-18:\n",
    "Triangle counts g-t (d,u):  (37.59, 362.47)\n",
    "Triangle counts baseline (d,u):  (394.92, 197.46)\n",
    "Square counts g-t (d,u):  (105.7, 2754.93)\n",
    "Square counts baseline (d,u):  (2920.7, 1460.35)\n",
    "Degree assortativity stats g-t:  -0.06009197884922079\n",
    "Degree assortativity stats baseline:  -0.18640021963869427\n",
    "Clustering stats:  0.020078625921353902\n",
    "Degree stats:  0.06112519560249652\n",
    "Directed degree stats: in, out 0.03459739409526552 0.031537453826322004\n",
    "Degree assortativity stats:  -0.18640021963869427\n",
    "Edge flow distribution stats:  nan\n",
    "Node flow distribution stats:  0.3824532612586784\n",
    "Average degree g-t:  8.85875\n",
    "Average degree baseline:  8.175\n",
    "\n",
    "\n",
    "7. E-R-Grid-25N:\n",
    "../../GraphRNN/output/e-r_grid_25N.pickle\n",
    "Triangle counts g-t (d,u):  (0.0, 0.0)\n",
    "Triangle counts baseline (d,u):  (11.06, 5.53)\n",
    "Square counts g-t (d,u):  (0.0, 15.99)\n",
    "Square counts baseline (d,u):  (25.88, 12.94)\n",
    "Degree assortativity stats g-t:  -0.17512509543457383\n",
    "Degree assortativity stats baseline:  -0.10116417719303888\n",
    "Clustering stats:  0.9217941117892309\n",
    "Degree stats:  0.1329920238501776\n",
    "Directed degree stats: in, out 0.11275572424062519 0.10589468903989552\n",
    "Degree assortativity stats:  -0.10116417719303888\n",
    "Edge flow distribution stats:  nan\n",
    "Node flow distribution stats:  0.37395204431155227\n",
    "Average degree g-t:  3.1984\n",
    "Average degree baseline:  3.1768\n",
    "\n",
    "8. B-A-Grid-25N:\n",
    "../../GraphRNN/output/b-a_grid_25N.pickle\n",
    "Triangle counts g-t (d,u):  (0.0, 0.0)\n",
    "Triangle counts baseline (d,u):  (0.0, 0.0)\n",
    "Square counts g-t (d,u):  (0.0, 15.98)\n",
    "Square counts baseline (d,u):  (0.0, 0.0)\n",
    "Degree assortativity stats g-t:  -0.14152817828485464\n",
    "Degree assortativity stats baseline:  -0.38797386426768915\n",
    "Clustering stats:  0.0\n",
    "Degree stats:  0.47033489541064166\n",
    "Directed degree stats: in, out 0.41111620674742944 0.4094465432182708\n",
    "Degree assortativity stats:  -0.38797386426768915\n",
    "Edge flow distribution stats:  nan\n",
    "Node flow distribution stats:  0.37415820028850133\n",
    "Average degree g-t:  3.1984\n",
    "Average degree baseline:  1.92\n",
    "\n",
    "9. E-R-Barbell-20N:\n",
    "../../GraphRNN/output/e-r_barbell_20N.pickle\n",
    "Triangle counts g-t (d,u):  (0.02, 39.29)\n",
    "Triangle counts baseline (d,u):  (35.0, 17.5)\n",
    "Square counts g-t (d,u):  (0.01, 113.05)\n",
    "Square counts baseline (d,u):  (115.92, 57.96)\n",
    "Degree assortativity stats g-t:  -0.0653597878051939\n",
    "Degree assortativity stats baseline:  -0.1313155860214049\n",
    "Clustering stats:  0.025083409032922502\n",
    "Degree stats:  0.024950060239157468\n",
    "Directed degree stats: in, out 0.025602909427964393 0.03668447421411192\n",
    "Degree assortativity stats:  -0.1313155860214049\n",
    "Edge flow distribution stats:  nan\n",
    "Node flow distribution stats:  0.3670588201416085\n",
    "Average degree g-t:  4.661\n",
    "Average degree baseline:  4.515\n",
    "\n",
    "10. B-A-Barbell-20N:\n",
    "../../GraphRNN/output/b-a_barbell_20N.pickle\n",
    "Triangle counts g-t (d,u):  (0.02, 36.2)\n",
    "Triangle counts baseline (d,u):  (26.64, 13.32)\n",
    "Square counts g-t (d,u):  (0.0, 102.34)\n",
    "Square counts baseline (d,u):  (77.64, 38.82)\n",
    "Degree assortativity stats g-t:  -0.05610178667655418\n",
    "Degree assortativity stats baseline:  -0.3221427958472464\n",
    "Clustering stats:  0.046204137540987185\n",
    "Degree stats:  0.1017056086557302\n",
    "Directed degree stats: in, out 0.15333068015546258 0.15389975665840328\n",
    "Degree assortativity stats:  -0.3221427958472464\n",
    "Edge flow distribution stats:  nan\n",
    "Node flow distribution stats:  0.3669595444063276\n",
    "Average degree g-t:  4.661\n",
    "Average degree baseline:  3.786\n"
   ]
  },
  {
   "cell_type": "markdown",
   "metadata": {},
   "source": [
    "#### Collect results down here (NetGAN)"
   ]
  },
  {
   "cell_type": "markdown",
   "metadata": {},
   "source": [
    "1. Netgan-Grid-25N:\n",
    "Triangle counts g-t (d,u):  (0.0, 0.0)\n",
    "Triangle counts baseline (d,u):  (0.42, 0.21)\n",
    "Square counts g-t (d,u):  (0.0, 15.99)\n",
    "Square counts baseline (d,u):  (15.68, 7.84)\n",
    "Degree assortativity stats g-t:  -0.16931048709297764\n",
    "Degree assortativity stats baseline:  0.16196093278430254\n",
    "Clustering stats:  0.013567753717415254\n",
    "Degree stats:  0.06097952333891565\n",
    "Directed degree stats: in, out 0.2680262711245789 0.24794573996555003\n",
    "Degree assortativity stats:  0.1646990854271598\n",
    "Edge flow distribution stats:  0.3606385907986758\n",
    "Node flow distribution stats:  0.3744833612859795\n",
    "Average degree g-t:  3.1984\n",
    "Average degree baseline:  2.72\n",
    "\n",
    "\n",
    "3. Netgan-Barbell-20N-sparse:\n",
    "../../netgan/output/netgan_barbell_20N_sparse.pickle\n",
    "Triangle counts g-t (d,u):  (0.11, 35.19)\n",
    "Triangle counts baseline (d,u):  (44.42, 22.21)\n",
    "Square counts g-t (d,u):  (0.05, 97.69)\n",
    "Square counts baseline (d,u):  (112.8, 56.4)\n",
    "Degree assortativity stats g-t:  -0.057753348067305345\n",
    "Degree assortativity stats baseline:  -0.1381064549777965\n",
    "Clustering stats:  0.022285783627694525\n",
    "Degree stats:  0.02036860463474932\n",
    "Directed degree stats: in, out 0.017356405260758434 0.013204844864348697\n",
    "Degree assortativity stats:  -0.1381064549777965\n",
    "Edge flow distribution stats:  0.21920057269479742\n",
    "Node flow distribution stats:  0.3669965807836053\n",
    "Average degree g-t:  4.661\n",
    "Average degree baseline:  4.4\n",
    "\n",
    "\n",
    "\n",
    "\n",
    "4. Netgan-Barbell-20N-dense:\n",
    "../../netgan/output/netgan_barbell_20N.pickle\n",
    "Triangle counts g-t (d,u):  (36.56, 141.16)\n",
    "Triangle counts baseline (d,u):  (129.86, 64.93)\n",
    "Square counts g-t (d,u):  (78.35, 599.93)\n",
    "Square counts baseline (d,u):  (429.12, 214.56)\n",
    "Degree assortativity stats g-t:  0.11254332881482788\n",
    "Degree assortativity stats baseline:  -0.13151266825451668\n",
    "Clustering stats:  0.044696435016720285\n",
    "Degree stats:  0.27214603150519223\n",
    "Directed degree stats: in, out 0.015666267470234807 0.013012639046202201\n",
    "Degree assortativity stats:  -0.13151266825451668\n",
    "Edge flow distribution stats:  0.40144168493656274\n",
    "Node flow distribution stats:  0.3808078137964719\n",
    "Average degree g-t:  7.08\n",
    "Average degree baseline:  6.0\n",
    "\n",
    "\n",
    "5. Netgan-Taxi-8:\n",
    "../../netgan/output/netgan_nyc_taxi_8.pickle\n",
    "Triangle counts g-t (d,u):  (11.83, 277.93)\n",
    "Triangle counts baseline (d,u):  (175.7, 87.85)\n",
    "Square counts g-t (d,u):  (19.99, 2028.79)\n",
    "Square counts baseline (d,u):  (841.2, 420.6)\n",
    "Degree assortativity stats g-t:  -0.17897787760287243\n",
    "Degree assortativity stats baseline:  -0.22387231447497097\n",
    "Clustering stats:  0.02027532257792417\n",
    "Degree stats:  0.0365096487727361\n",
    "Directed degree stats: in, out 0.13113853612713844 0.027769004930476182\n",
    "Degree assortativity stats:  -0.22387231447497097\n",
    "Edge flow distribution stats:  0.6364418299604782\n",
    "Node flow distribution stats:  0.5148433725835502\n",
    "Average degree g-t:  7.048125\n",
    "Average degree baseline:  6.5\n",
    "\n",
    "\n",
    "6. Netgan-Taxi-13:\n",
    "../../netgan/output/netgan_nyc_taxi_13.pickle\n",
    "Triangle counts g-t (d,u):  (37.94, 179.04)\n",
    "Triangle counts baseline (d,u):  (265.3, 132.65)\n",
    "Square counts g-t (d,u):  (105.3, 1022.2)\n",
    "Square counts baseline (d,u):  (1387.98, 693.99)\n",
    "Degree assortativity stats g-t:  -0.03699877083716355\n",
    "Degree assortativity stats baseline:  -0.05992943676418506\n",
    "Clustering stats:  0.02015471212194907\n",
    "Degree stats:  0.026865126583554\n",
    "Directed degree stats: in, out 0.0336577550990842 0.035319904638062116\n",
    "Degree assortativity stats:  -0.05992943676418506\n",
    "Edge flow distribution stats:  0.4722035558511182\n",
    "Node flow distribution stats:  0.5232194713175422\n",
    "Average degree g-t:  6.06625\n",
    "Average degree baseline:  7.0\n",
    "\n",
    "\n",
    "7. Netgan-Taxi-18:\n",
    "../../netgan/output/netgan_nyc_taxi_18.pickle\n",
    "Triangle counts g-t (d,u):  (36.69, 352.62)\n",
    "Triangle counts baseline (d,u):  (189.22, 94.61)\n",
    "Square counts g-t (d,u):  (100.08, 2633.3)\n",
    "Square counts baseline (d,u):  (880.94, 440.47)\n",
    "Degree assortativity stats g-t:  -0.058730842936819884\n",
    "Degree assortativity stats baseline:  -0.07232535023471395\n",
    "Clustering stats:  0.020178678639026858\n",
    "Degree stats:  0.06023658131283072\n",
    "Directed degree stats: in, out 0.011397944251061665 0.06654336380658399\n",
    "Degree assortativity stats:  -0.07232535023471395\n",
    "Edge flow distribution stats:  0.544170169725847\n",
    "Node flow distribution stats:  0.3875938062327451\n",
    "Average degree g-t:  8.85875\n",
    "Average degree baseline:  6.75"
   ]
  },
  {
   "cell_type": "code",
   "execution_count": 145,
   "metadata": {},
   "outputs": [],
   "source": [
    "G_lobster = nx.generators.random_graphs.random_lobster(10, 0.5, 0.8)"
   ]
  },
  {
   "cell_type": "code",
   "execution_count": 146,
   "metadata": {},
   "outputs": [
    {
     "data": {
      "image/png": "[encoded data removed]",
      "text/plain": [
       "<Figure size 432x288 with 1 Axes>"
      ]
     },
     "metadata": {},
     "output_type": "display_data"
    }
   ],
   "source": [
    "nx.draw(G_lobster)"
   ]
  },
  {
   "cell_type": "code",
   "execution_count": 131,
   "metadata": {},
   "outputs": [
    {
     "data": {
      "text/plain": [
       "'Name: \\nType: Graph\\nNumber of nodes: 18\\nNumber of edges: 17\\nAverage degree:   1.8889'"
      ]
     },
     "execution_count": 131,
     "metadata": {},
     "output_type": "execute_result"
    }
   ],
   "source": [
    "nx.info(G_lobster)"
   ]
  }
 ],
 "metadata": {
  "kernelspec": {
   "display_name": "Python 3",
   "language": "python",
   "name": "python3"
  },
  "language_info": {
   "codemirror_mode": {
    "name": "ipython",
    "version": 3
   },
   "file_extension": ".py",
   "mimetype": "text/x-python",
   "name": "python",
   "nbconvert_exporter": "python",
   "pygments_lexer": "ipython3",
   "version": "3.6.3"
  }
 },
 "nbformat": 4,
 "nbformat_minor": 2
}
